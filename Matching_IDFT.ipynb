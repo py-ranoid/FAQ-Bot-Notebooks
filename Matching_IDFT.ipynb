{
 "cells": [
  {
   "cell_type": "markdown",
   "metadata": {},
   "source": [
    "# FAQ Matching Bot using IDFT\n",
    "### Steps\n",
    "- Loading and preprocessing Questions and Answers from dataset\n",
    "- Setting Stopwords\n",
    "- Intitialising and training TF_IDF vectors\n",
    "- Testing"
   ]
  },
  {
   "cell_type": "markdown",
   "metadata": {},
   "source": [
    "## Imports"
   ]
  },
  {
   "cell_type": "code",
   "execution_count": 1,
   "metadata": {},
   "outputs": [],
   "source": [
    "import pandas as pd                   # To load and process dataset\n",
    "import numpy as np                    # For matrix operations\n",
    "from nltk.corpus import stopwords     # Using NLTK to load stopwords\n",
    "from nltk import wordpunct_tokenize   # Using NLTK to token sentences\n",
    "\n",
    "from sklearn.feature_extraction.text import TfidfVectorizer\n",
    "\n",
    "pd.set_option('display.width',1000)"
   ]
  },
  {
   "cell_type": "markdown",
   "metadata": {},
   "source": [
    "## Loading and preprocessing Questions and Answers from dataset\n",
    "- `hdfc.xlsx` : Collection of 1341 QnA about HDFC. (Scraped from HDFC's FAQ site)\n",
    "- Dropping stopwords\n",
    "- Stripping Questions of extra spaces"
   ]
  },
  {
   "cell_type": "code",
   "execution_count": 3,
   "metadata": {},
   "outputs": [],
   "source": [
    "df = pd.read_excel('data/hdfc.xlsx')\n",
    "df = df.drop_duplicates('Question')\n",
    "df = df.reset_index()"
   ]
  },
  {
   "cell_type": "code",
   "execution_count": 4,
   "metadata": {},
   "outputs": [
    {
     "data": {
      "text/html": [
       "<div>\n",
       "<style scoped>\n",
       "    .dataframe tbody tr th:only-of-type {\n",
       "        vertical-align: middle;\n",
       "    }\n",
       "\n",
       "    .dataframe tbody tr th {\n",
       "        vertical-align: top;\n",
       "    }\n",
       "\n",
       "    .dataframe thead th {\n",
       "        text-align: right;\n",
       "    }\n",
       "</style>\n",
       "<table border=\"1\" class=\"dataframe\">\n",
       "  <thead>\n",
       "    <tr style=\"text-align: right;\">\n",
       "      <th></th>\n",
       "      <th>Question</th>\n",
       "      <th>Answer</th>\n",
       "    </tr>\n",
       "  </thead>\n",
       "  <tbody>\n",
       "    <tr>\n",
       "      <th>0</th>\n",
       "      <td>What will be done with the post dated cheques ...</td>\n",
       "      <td>Post Dated Cheques(PDCs)/Security Cheques subm...</td>\n",
       "    </tr>\n",
       "    <tr>\n",
       "      <th>1</th>\n",
       "      <td>How can I repay my Personal Loan?</td>\n",
       "      <td>You pay the loan in equal monthly instalments ...</td>\n",
       "    </tr>\n",
       "    <tr>\n",
       "      <th>2</th>\n",
       "      <td>Are there any additional charges for loan repa...</td>\n",
       "      <td>The additional charges (if any) are applicable...</td>\n",
       "    </tr>\n",
       "    <tr>\n",
       "      <th>3</th>\n",
       "      <td>What is Guarantor?</td>\n",
       "      <td>A Guarantor is a person who guarantees to pay ...</td>\n",
       "    </tr>\n",
       "    <tr>\n",
       "      <th>4</th>\n",
       "      <td>What is De-pledge?</td>\n",
       "      <td>Removal of a pledge from the security to regai...</td>\n",
       "    </tr>\n",
       "  </tbody>\n",
       "</table>\n",
       "</div>"
      ],
      "text/plain": [
       "                                            Question                                             Answer\n",
       "0  What will be done with the post dated cheques ...  Post Dated Cheques(PDCs)/Security Cheques subm...\n",
       "1                  How can I repay my Personal Loan?  You pay the loan in equal monthly instalments ...\n",
       "2  Are there any additional charges for loan repa...  The additional charges (if any) are applicable...\n",
       "3                                 What is Guarantor?  A Guarantor is a person who guarantees to pay ...\n",
       "4                                 What is De-pledge?  Removal of a pledge from the security to regai..."
      ]
     },
     "execution_count": 4,
     "metadata": {},
     "output_type": "execute_result"
    }
   ],
   "source": [
    "limit = 1000\n",
    "reduced = df[['Question','Answer']][:limit]\n",
    "\n",
    "qlabels = reduced['Question'].to_dict()\n",
    "alabels = reduced['Answer'].to_dict()\n",
    "\n",
    "reduced.head()"
   ]
  },
  {
   "cell_type": "markdown",
   "metadata": {},
   "source": [
    "## Setting stopwords\n",
    "- Import set of common stopwords from nltk\n",
    "- Adding domain-related stopword\n",
    "- Removing question words (To distinguish between intents of questions)"
   ]
  },
  {
   "cell_type": "code",
   "execution_count": 5,
   "metadata": {},
   "outputs": [],
   "source": [
    "plus = {'hdfc'}\n",
    "minus = {'what','how','where','when','why'}\n",
    "stop = set(stopwords.words('english'))\n",
    "\n",
    "stop.update(plus)\n",
    "stop.difference_update(minus)"
   ]
  },
  {
   "cell_type": "markdown",
   "metadata": {},
   "source": [
    "## Intitialising and training TF-IDF vectors\n",
    "- Setting stopwords to `stop`\n",
    "- `tf_vect` : `TfidfVectorizer` object. Can be used to convert strings to tf-idf vectors\n",
    "- `all_qs_vectors` : Matrix of TF-IDF vectors corresponding to questions in training set"
   ]
  },
  {
   "cell_type": "code",
   "execution_count": 6,
   "metadata": {},
   "outputs": [
    {
     "name": "stdout",
     "output_type": "stream",
     "text": [
      "Shape of all_qs_vectors : (993, 1140)\n",
      "Number of questions :  993\n",
      "Vocabulary size :  1140\n"
     ]
    }
   ],
   "source": [
    "tf_vect =TfidfVectorizer(stop_words=stop,\n",
    "                         lowercase=True,\n",
    "                         use_idf=True)\n",
    "all_qs_vectors = tf_vect.fit_transform(reduced['Question'])\n",
    "print \"Shape of all_qs_vectors :\",all_qs_vectors.shape\n",
    "print \"Number of questions : \",all_qs_vectors.shape[0]\n",
    "print \"Vocabulary size : \",all_qs_vectors.shape[1]"
   ]
  },
  {
   "cell_type": "code",
   "execution_count": 7,
   "metadata": {},
   "outputs": [],
   "source": [
    "# Transforming context with tfidf\n",
    "context = 'How can I repay my Personal Loan?'\n",
    "context_vector = tf_vect.transform([context])\n",
    "context_matrix = context_vector.todense()"
   ]
  },
  {
   "cell_type": "code",
   "execution_count": 8,
   "metadata": {
    "scrolled": true
   },
   "outputs": [],
   "source": [
    "# Displaying TF_IDF results\n",
    "def tabulate_vector(context):\n",
    "    values = []\n",
    "    for w in word_tokenize(context.strip()):\n",
    "        ind = tf_vect.vocabulary_.get(w.lower(),\"-\")\n",
    "        val = context_matrix[0,ind] if not ind == \"-\" else 0\n",
    "        values.append({\"Word\":w,\"Vocabulary Index\":str(ind),\"TF-IDF Value\":val})\n",
    "    TableDisplay(values)"
   ]
  },
  {
   "cell_type": "markdown",
   "metadata": {},
   "source": [
    "\n",
    "## Predicting closest question\n",
    "- `predict` has the following arguments\n",
    "    - `n`       : int  | Number of results (from top)\n",
    "    - `answers` : bool | Return answers or not\n",
    "    - `ret_best`: bool | Returns index of closest match\n",
    "- Steps for prediction\n",
    "    - Convert query to tfidf vector\n",
    "    - Get dot product of query vectors with each question to measures similarity\n",
    "    - Sort array indices by descending order of array values\n",
    "    - Return top n results"
   ]
  },
  {
   "cell_type": "code",
   "execution_count": 9,
   "metadata": {},
   "outputs": [],
   "source": [
    "def predict(query,n=5,answers=False,ret_indices=False):\n",
    "    # Comparing context with all questions using dot product\n",
    "    query_vector = tf_vect.transform([query])\n",
    "    sim = np.dot(all_qs_vectors, query_vector.T)\n",
    "    # Converting numpy matrix to 1D array with 146 dot products (146 questions vs context)\n",
    "    arr = sim.toarray().flatten()\n",
    "    matches = arr.argsort(axis=0)[::-1]\n",
    "    top_n_matches = matches[:n]\n",
    "    results = []\n",
    "    if ret_indices:\n",
    "        return top_n_matches\n",
    "    for i in top_n_matches:\n",
    "        res = {\"Question\":qlabels[i],\"Ans\":alabels[i]} if answers else {\"Question\":qlabels[i],\"Score\":arr[i]}\n",
    "        results.append(res)\n",
    "    return pd.DataFrame(results)"
   ]
  },
  {
   "cell_type": "code",
   "execution_count": 10,
   "metadata": {},
   "outputs": [
    {
     "data": {
      "text/html": [
       "<div>\n",
       "<style scoped>\n",
       "    .dataframe tbody tr th:only-of-type {\n",
       "        vertical-align: middle;\n",
       "    }\n",
       "\n",
       "    .dataframe tbody tr th {\n",
       "        vertical-align: top;\n",
       "    }\n",
       "\n",
       "    .dataframe thead th {\n",
       "        text-align: right;\n",
       "    }\n",
       "</style>\n",
       "<table border=\"1\" class=\"dataframe\">\n",
       "  <thead>\n",
       "    <tr style=\"text-align: right;\">\n",
       "      <th></th>\n",
       "      <th>Question</th>\n",
       "      <th>Score</th>\n",
       "    </tr>\n",
       "  </thead>\n",
       "  <tbody>\n",
       "    <tr>\n",
       "      <th>0</th>\n",
       "      <td>How can I repay my Personal Loan?</td>\n",
       "      <td>0.637225</td>\n",
       "    </tr>\n",
       "    <tr>\n",
       "      <th>1</th>\n",
       "      <td>How long can I take to repay my personal loan?</td>\n",
       "      <td>0.485998</td>\n",
       "    </tr>\n",
       "    <tr>\n",
       "      <th>2</th>\n",
       "      <td>How long will it take for my Personal loan to ...</td>\n",
       "      <td>0.465213</td>\n",
       "    </tr>\n",
       "    <tr>\n",
       "      <th>3</th>\n",
       "      <td>Can I repay the Personal loan earlier?</td>\n",
       "      <td>0.449065</td>\n",
       "    </tr>\n",
       "    <tr>\n",
       "      <th>4</th>\n",
       "      <td>How does a Salary Account help me get a person...</td>\n",
       "      <td>0.421928</td>\n",
       "    </tr>\n",
       "  </tbody>\n",
       "</table>\n",
       "</div>"
      ],
      "text/plain": [
       "                                            Question     Score\n",
       "0                  How can I repay my Personal Loan?  0.637225\n",
       "1     How long can I take to repay my personal loan?  0.485998\n",
       "2  How long will it take for my Personal loan to ...  0.465213\n",
       "3             Can I repay the Personal loan earlier?  0.449065\n",
       "4  How does a Salary Account help me get a person...  0.421928"
      ]
     },
     "execution_count": 10,
     "metadata": {},
     "output_type": "execute_result"
    }
   ],
   "source": [
    "predict('How do I pay my personal loan ?')"
   ]
  },
  {
   "cell_type": "markdown",
   "metadata": {},
   "source": [
    "## Finding closest question by jaccard_distance\n",
    "- `tokens` is a dictionary mapping a question's index to a list of tokens in the word"
   ]
  },
  {
   "cell_type": "code",
   "execution_count": 11,
   "metadata": {},
   "outputs": [],
   "source": [
    "# Generating tokens after converting to lowercase, removing stopwords and non-alphanumberic tokens\n",
    "# Note : nltk.word_tokenize does not split PIN/Pattern'\n",
    "def get_tokens(sent):\n",
    "    return set([x for x in wordpunct_tokenize(sent.lower()) if x.isalnum() and x not in stop])\n",
    "    \n",
    "tokens = {}\n",
    "for i in qlabels:\n",
    "    tokens[i] = get_tokens(qlabels[i])"
   ]
  },
  {
   "cell_type": "code",
   "execution_count": 12,
   "metadata": {},
   "outputs": [],
   "source": [
    "# Eliminating questions which have a jaccard_distance > 0.9 with another questions\n",
    "def get_jaccard_similarity(words,words2):\n",
    "    inter = words.intersection(words2)\n",
    "    union = words.union(words2)\n",
    "    return float(len(inter))/len(union),len(inter)\n",
    "\n",
    "def pred_jaccard(query,n=5):\n",
    "    words = get_tokens(query)\n",
    "    max_sim = -1\n",
    "    max_ind = None\n",
    "    scores = {}\n",
    "    for i in qlabels:        \n",
    "        sc = get_jaccard_similarity(words,tokens[i])\n",
    "        scores[i] = {\"question\":qlabels[i],\"score\":sc[0],\"inter\":sc[1]}\n",
    "    return pd.DataFrame(scores).T.sort_values('score',ascending=False)[:n]\n",
    "    "
   ]
  },
  {
   "cell_type": "markdown",
   "metadata": {},
   "source": [
    "## Jaccard-similarity-based matching vs. TF-IDF-based matching\n",
    "- Jaccard does not depend on the rest of the corpus/questions while computing similiarity and thus treats all terms/tokens equally\n",
    "- IDF, which is used to measure the importance of the word, gives more importance to words that rarely occur in a document\n",
    "<br><br>\n",
    "\n",
    "#### Consider the question : **How does amortization work ?**\n",
    "- Jaccard suggests '*How does it work*' by matching the words **how** and **work**\n",
    "- TFIDF suggests '*How does amortization work ?*' by matching the words **amortization** since it is a less-frequent term"
   ]
  },
  {
   "cell_type": "code",
   "execution_count": 13,
   "metadata": {},
   "outputs": [
    {
     "data": {
      "text/html": [
       "<div>\n",
       "<style scoped>\n",
       "    .dataframe tbody tr th:only-of-type {\n",
       "        vertical-align: middle;\n",
       "    }\n",
       "\n",
       "    .dataframe tbody tr th {\n",
       "        vertical-align: top;\n",
       "    }\n",
       "\n",
       "    .dataframe thead th {\n",
       "        text-align: right;\n",
       "    }\n",
       "</style>\n",
       "<table border=\"1\" class=\"dataframe\">\n",
       "  <thead>\n",
       "    <tr style=\"text-align: right;\">\n",
       "      <th></th>\n",
       "      <th>inter</th>\n",
       "      <th>question</th>\n",
       "      <th>score</th>\n",
       "    </tr>\n",
       "  </thead>\n",
       "  <tbody>\n",
       "    <tr>\n",
       "      <th>594</th>\n",
       "      <td>2</td>\n",
       "      <td>How does it work?</td>\n",
       "      <td>0.666667</td>\n",
       "    </tr>\n",
       "    <tr>\n",
       "      <th>641</th>\n",
       "      <td>2</td>\n",
       "      <td>How does it BillPay work?</td>\n",
       "      <td>0.5</td>\n",
       "    </tr>\n",
       "    <tr>\n",
       "      <th>302</th>\n",
       "      <td>2</td>\n",
       "      <td>How does SMSBanking work?</td>\n",
       "      <td>0.5</td>\n",
       "    </tr>\n",
       "    <tr>\n",
       "      <th>734</th>\n",
       "      <td>2</td>\n",
       "      <td>How does the Insta IPIN facility work?</td>\n",
       "      <td>0.333333</td>\n",
       "    </tr>\n",
       "    <tr>\n",
       "      <th>616</th>\n",
       "      <td>2</td>\n",
       "      <td>What is IVR Password and how does it work?</td>\n",
       "      <td>0.333333</td>\n",
       "    </tr>\n",
       "  </tbody>\n",
       "</table>\n",
       "</div>"
      ],
      "text/plain": [
       "    inter                                    question     score\n",
       "594     2                           How does it work?  0.666667\n",
       "641     2                   How does it BillPay work?       0.5\n",
       "302     2                   How does SMSBanking work?       0.5\n",
       "734     2      How does the Insta IPIN facility work?  0.333333\n",
       "616     2  What is IVR Password and how does it work?  0.333333"
      ]
     },
     "execution_count": 13,
     "metadata": {},
     "output_type": "execute_result"
    }
   ],
   "source": [
    "pred_jaccard('How does amortization work ?',5)\n",
    "# Jaccard suggests 'How does it work' by matching the words how and work"
   ]
  },
  {
   "cell_type": "code",
   "execution_count": 14,
   "metadata": {},
   "outputs": [
    {
     "data": {
      "text/html": [
       "<div>\n",
       "<style scoped>\n",
       "    .dataframe tbody tr th:only-of-type {\n",
       "        vertical-align: middle;\n",
       "    }\n",
       "\n",
       "    .dataframe tbody tr th {\n",
       "        vertical-align: top;\n",
       "    }\n",
       "\n",
       "    .dataframe thead th {\n",
       "        text-align: right;\n",
       "    }\n",
       "</style>\n",
       "<table border=\"1\" class=\"dataframe\">\n",
       "  <thead>\n",
       "    <tr style=\"text-align: right;\">\n",
       "      <th></th>\n",
       "      <th>Question</th>\n",
       "      <th>Score</th>\n",
       "    </tr>\n",
       "  </thead>\n",
       "  <tbody>\n",
       "    <tr>\n",
       "      <th>0</th>\n",
       "      <td>What is Amortization?</td>\n",
       "      <td>0.747444</td>\n",
       "    </tr>\n",
       "    <tr>\n",
       "      <th>1</th>\n",
       "      <td>How does it work?</td>\n",
       "      <td>0.626755</td>\n",
       "    </tr>\n",
       "    <tr>\n",
       "      <th>2</th>\n",
       "      <td>How does it BillPay work?</td>\n",
       "      <td>0.493706</td>\n",
       "    </tr>\n",
       "    <tr>\n",
       "      <th>3</th>\n",
       "      <td>How does SMSBanking work?</td>\n",
       "      <td>0.450852</td>\n",
       "    </tr>\n",
       "    <tr>\n",
       "      <th>4</th>\n",
       "      <td>What is IVR Password and how does it work?</td>\n",
       "      <td>0.402905</td>\n",
       "    </tr>\n",
       "  </tbody>\n",
       "</table>\n",
       "</div>"
      ],
      "text/plain": [
       "                                     Question     Score\n",
       "0                       What is Amortization?  0.747444\n",
       "1                           How does it work?  0.626755\n",
       "2                   How does it BillPay work?  0.493706\n",
       "3                   How does SMSBanking work?  0.450852\n",
       "4  What is IVR Password and how does it work?  0.402905"
      ]
     },
     "execution_count": 14,
     "metadata": {},
     "output_type": "execute_result"
    }
   ],
   "source": [
    "predict('How does amortization work ?',5)\n",
    "# TFIDF suggests 'How does amortization work ?' by matching the words amortization since it is a less-frequent term"
   ]
  },
  {
   "cell_type": "code",
   "execution_count": 16,
   "metadata": {},
   "outputs": [
    {
     "name": "stdout",
     "output_type": "stream",
     "text": [
      "Word/Token Frequency of :  How does amortization work ?\n",
      "how : 236\n",
      "work : 13\n",
      "amortization : 1\n"
     ]
    }
   ],
   "source": [
    "# Frequency Distribution of words\n",
    "all_ = {}\n",
    "for x in list(tokens.values()):\n",
    "    for w in list(x):\n",
    "        all_[w] = all_.get(w,0)+1\n",
    "SENT = 'How does amortization work ?'\n",
    "print \"Word/Token Frequency of : \",SENT\n",
    "for i in get_tokens(SENT):\n",
    "    print i,\":\",all_[i]"
   ]
  }
 ],
 "metadata": {
  "kernelspec": {
   "display_name": "Python 2",
   "language": "python",
   "name": "python2"
  },
  "language_info": {
   "codemirror_mode": {
    "name": "ipython",
    "version": 2
   },
   "file_extension": ".py",
   "mimetype": "text/x-python",
   "name": "python",
   "nbconvert_exporter": "python",
   "pygments_lexer": "ipython2",
   "version": "2.7.15"
  }
 },
 "nbformat": 4,
 "nbformat_minor": 2
}
