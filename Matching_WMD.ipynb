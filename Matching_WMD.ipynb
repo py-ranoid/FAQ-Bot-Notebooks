{
 "cells": [
  {
   "cell_type": "markdown",
   "metadata": {},
   "source": [
    "# FAQ Matching Bot using Word Mover's Distance\n",
    "### Steps\n",
    "1. Tokenising and setting Stopwords\n",
    "2. Loading word2vec model (for distance between words)\n",
    "3. Experimenting with WMD\n",
    "4. Loading the dataset and processing the data\n",
    "5. Finding closest question using WmdSimilarity"
   ]
  },
  {
   "cell_type": "markdown",
   "metadata": {},
   "source": [
    "## Setting stopwords\n",
    "- Import set of common stopwords from nltk\n",
    "- Adding domain-related stopword\n",
    "- Removing question words (To distinguish between intents of questions)\n",
    "\n",
    "## Tokenizing\n",
    "- Use `wordpunct_tokenize` to get all tokens in lowercase sentence and remove stopwords and special characters"
   ]
  },
  {
   "cell_type": "code",
   "execution_count": 1,
   "metadata": {},
   "outputs": [],
   "source": [
    "from nltk.corpus import stopwords\n",
    "from nltk import wordpunct_tokenize\n",
    "\n",
    "plus = {'hdfc'}\n",
    "minus = {'what','how','where','when','why'}\n",
    "stop = set(stopwords.words('english'))\n",
    "\n",
    "stop.update(plus)\n",
    "stop.difference_update(minus)\n",
    "\n",
    "def get_tokens(sent):\n",
    "    return [x for x in wordpunct_tokenize(sent.lower()) if x.isalnum() and x not in stop]"
   ]
  },
  {
   "cell_type": "markdown",
   "metadata": {},
   "source": [
    "## Loading [word2vec](https://code.google.com/archive/p/word2vec/) model\n",
    "Download here : https://drive.google.com/file/d/0B7XkCwpI5KDYNlNUTTlSS21pQmM/edit"
   ]
  },
  {
   "cell_type": "code",
   "execution_count": 2,
   "metadata": {},
   "outputs": [],
   "source": [
    "# Loading the model with gensim\n",
    "from gensim.models import KeyedVectors\n",
    "import pandas as pd\n",
    "import os\n",
    "\n",
    "MODEL_PATH = '/Users/vishalgupta/Downloads/GoogleNews-vectors-negative300.bin'\n",
    "\n",
    "if not os.path.exists(MODEL_PATH):\n",
    "    raise ValueError(\"SKIP: You need to download the google news model\")\n",
    "    \n",
    "model = KeyedVectors.load_word2vec_format(MODEL_PATH, binary=True,limit=200000)"
   ]
  },
  {
   "cell_type": "markdown",
   "metadata": {},
   "source": [
    "## Experimenting with WMD\n",
    "### About WMD\n",
    "Word Mover's Distance is a method that to measure distance/similarity between two documents, even when they have no words in common. To measure distance between words, it needs embeddings, (word2vec, in this case). WMD was presented by Matt Kusner et al. in 2015 ([Paper](proceedings.mlr.press/v37/kusnerb15.pdf)).\n",
    "\n",
    "![WMD Results](http://vishalgupta.me/NLP-Notebooks/img/WMD_results.png)\n",
    "\n",
    "### How does it work ?\n",
    "WMD adapts the [earth mover’s distance](https://en.wikipedia.org/wiki/Earth_mover%27s_distance) to the space of documents: the distance between two texts is given by the total amount of “mass” needed to move the words from one side into the other, multiplied by the distance the words need to move. So, starting from a measure of the distance between different words, we can get a principled document-level distance\n",
    "\n",
    "<img src=\"http://vishalgupta.me/NLP-Notebooks/img/WM_dist.png\" width = 500></img>\n",
    "\n",
    "- Top : \n",
    "    - The components of the WMD metric between a query `D0` and two sentences `D1` , `D2` (with equal BOW distance).\n",
    "    - The arrows represent flow between two words and are labeled with their distance contribution. \n",
    "- Bottom: \n",
    "    - The flow between two sentences `D3` and `D0` with different numbers of words.\n",
    "    - This mis-match causes the WMD to move words to multiple similar words."
   ]
  },
  {
   "cell_type": "code",
   "execution_count": 3,
   "metadata": {},
   "outputs": [
    {
     "name": "stdout",
     "output_type": "stream",
     "text": [
      "(\"'Obama speaks to the media in Illinois' vs. 'Obama speaks to the media in Illinois' \\t\\t:\", 0.0)\n",
      "(\"'Obama speaks to the media in Illinois' vs. 'In Illinois, Obama spoke to journalists' \\t\\t:\", 1.751374609270841)\n",
      "(\"'Obama speaks to the media in Illinois' vs. 'The president greets the press in Chicago' \\t:\", 3.3901614766891077)\n",
      "(\"'Obama speaks to the media in Illinois' vs. 'Mary had a little lamb' \\t\\t\\t\\t:\", 4.176404432301822)\n"
     ]
    }
   ],
   "source": [
    "# Sample Sentences\n",
    "sentence_obama = 'Obama speaks to the media in Illinois'\n",
    "sentence_obama_past = 'In Illinois, Obama spoke to journalists'\n",
    "sentence_president = 'The president greets the press in Chicago'\n",
    "sentence_arbitrary = 'Mary had a little lamb'\n",
    "\n",
    "# Tokens of sample sentences\n",
    "tokens_obama = get_tokens(sentence_obama)\n",
    "tokens_president = get_tokens(sentence_president)\n",
    "tokens_obama_past = get_tokens(sentence_obama_past)\n",
    "tokens_arbitrary = get_tokens(sentence_arbitrary)\n",
    "\n",
    "# WMD between sample sentences\n",
    "print (\"'\"+sentence_obama+\"' vs. '\"+sentence_obama+\"' \\t\\t:\",model.wmdistance(tokens_obama, tokens_obama))\n",
    "print (\"'\"+sentence_obama+\"' vs. '\"+sentence_obama_past+\"' \\t\\t:\",model.wmdistance(tokens_obama, tokens_obama_past))\n",
    "print (\"'\"+sentence_obama+\"' vs. '\"+sentence_president+\"' \\t:\",model.wmdistance(tokens_obama, tokens_president))\n",
    "print (\"'\"+sentence_obama+\"' vs. '\"+sentence_arbitrary+\"' \\t\\t\\t\\t:\",model.wmdistance(tokens_obama, tokens_arbitrary))"
   ]
  },
  {
   "cell_type": "markdown",
   "metadata": {},
   "source": [
    "## Loading the dataset\n",
    "- `hdfc.xlsx` : Collection of 1341 QnA about HDFC. (Scraped from HDFC's FAQ site)\n",
    "- Dropping duplicate questions\n",
    "- Dropping questions whose words are not in the word2vec model's vocabulary"
   ]
  },
  {
   "cell_type": "code",
   "execution_count": 4,
   "metadata": {},
   "outputs": [
    {
     "data": {
      "text/html": [
       "<div>\n",
       "<style scoped>\n",
       "    .dataframe tbody tr th:only-of-type {\n",
       "        vertical-align: middle;\n",
       "    }\n",
       "\n",
       "    .dataframe tbody tr th {\n",
       "        vertical-align: top;\n",
       "    }\n",
       "\n",
       "    .dataframe thead th {\n",
       "        text-align: right;\n",
       "    }\n",
       "</style>\n",
       "<table border=\"1\" class=\"dataframe\">\n",
       "  <thead>\n",
       "    <tr style=\"text-align: right;\">\n",
       "      <th></th>\n",
       "      <th>index</th>\n",
       "      <th>Question</th>\n",
       "      <th>Answer</th>\n",
       "    </tr>\n",
       "  </thead>\n",
       "  <tbody>\n",
       "    <tr>\n",
       "      <th>1</th>\n",
       "      <td>1</td>\n",
       "      <td>How can I repay my Personal Loan?</td>\n",
       "      <td>You pay the loan in equal monthly instalments ...</td>\n",
       "    </tr>\n",
       "    <tr>\n",
       "      <th>2</th>\n",
       "      <td>2</td>\n",
       "      <td>Are there any additional charges for loan repa...</td>\n",
       "      <td>The additional charges (if any) are applicable...</td>\n",
       "    </tr>\n",
       "    <tr>\n",
       "      <th>3</th>\n",
       "      <td>3</td>\n",
       "      <td>What is Guarantor?</td>\n",
       "      <td>A Guarantor is a person who guarantees to pay ...</td>\n",
       "    </tr>\n",
       "    <tr>\n",
       "      <th>4</th>\n",
       "      <td>4</td>\n",
       "      <td>What is De-pledge?</td>\n",
       "      <td>Removal of a pledge from the security to regai...</td>\n",
       "    </tr>\n",
       "    <tr>\n",
       "      <th>5</th>\n",
       "      <td>5</td>\n",
       "      <td>Whom do I contact in case of ay further querie...</td>\n",
       "      <td>You can apply online on the clicking on the be...</td>\n",
       "    </tr>\n",
       "  </tbody>\n",
       "</table>\n",
       "</div>"
      ],
      "text/plain": [
       "   index                                           Question  \\\n",
       "1      1                  How can I repay my Personal Loan?   \n",
       "2      2  Are there any additional charges for loan repa...   \n",
       "3      3                                 What is Guarantor?   \n",
       "4      4                                 What is De-pledge?   \n",
       "5      5  Whom do I contact in case of ay further querie...   \n",
       "\n",
       "                                              Answer  \n",
       "1  You pay the loan in equal monthly instalments ...  \n",
       "2  The additional charges (if any) are applicable...  \n",
       "3  A Guarantor is a person who guarantees to pay ...  \n",
       "4  Removal of a pledge from the security to regai...  \n",
       "5  You can apply online on the clicking on the be...  "
      ]
     },
     "execution_count": 4,
     "metadata": {},
     "output_type": "execute_result"
    }
   ],
   "source": [
    "df = pd.read_excel('data/hdfc.xlsx')\n",
    "df = df.drop_duplicates('Question')\n",
    "df = df.reset_index()\n",
    "\n",
    "qlabels = df['Question'].to_dict()\n",
    "\n",
    "drop_list = []\n",
    "for x in qlabels:\n",
    "    for w in get_tokens(qlabels[x]):\n",
    "        if w not in model.vocab:\n",
    "            drop_list.append(x)\n",
    "\n",
    "reduced = df.drop(drop_list)\n",
    "\n",
    "qlabels = reduced['Question'].to_dict()\n",
    "alabels = reduced['Answer'].to_dict()\n",
    "reduced.head()"
   ]
  },
  {
   "cell_type": "markdown",
   "metadata": {},
   "source": [
    "## Finding closest question using WmdSimilarity"
   ]
  },
  {
   "cell_type": "code",
   "execution_count": 5,
   "metadata": {},
   "outputs": [],
   "source": [
    "from gensim.similarities import WmdSimilarity\n",
    "questions = reduced['Question'].values\n",
    "\n",
    "instance = WmdSimilarity([get_tokens(x) for x in questions], model, num_best=5)"
   ]
  },
  {
   "cell_type": "code",
   "execution_count": 7,
   "metadata": {},
   "outputs": [
    {
     "data": {
      "text/html": [
       "<div>\n",
       "<style scoped>\n",
       "    .dataframe tbody tr th:only-of-type {\n",
       "        vertical-align: middle;\n",
       "    }\n",
       "\n",
       "    .dataframe tbody tr th {\n",
       "        vertical-align: top;\n",
       "    }\n",
       "\n",
       "    .dataframe thead th {\n",
       "        text-align: right;\n",
       "    }\n",
       "</style>\n",
       "<table border=\"1\" class=\"dataframe\">\n",
       "  <thead>\n",
       "    <tr style=\"text-align: right;\">\n",
       "      <th></th>\n",
       "      <th>Question</th>\n",
       "      <th>Score</th>\n",
       "    </tr>\n",
       "  </thead>\n",
       "  <tbody>\n",
       "    <tr>\n",
       "      <th>0</th>\n",
       "      <td>How can I repay my Personal Loan?</td>\n",
       "      <td>0.6165</td>\n",
       "    </tr>\n",
       "    <tr>\n",
       "      <th>1</th>\n",
       "      <td>What are the charges I need to pay to foreclos...</td>\n",
       "      <td>0.6076</td>\n",
       "    </tr>\n",
       "    <tr>\n",
       "      <th>2</th>\n",
       "      <td>What are the charges I need to pay to foreclos...</td>\n",
       "      <td>0.5802</td>\n",
       "    </tr>\n",
       "    <tr>\n",
       "      <th>3</th>\n",
       "      <td>Can I repay the Personal loan earlier?</td>\n",
       "      <td>0.5799</td>\n",
       "    </tr>\n",
       "    <tr>\n",
       "      <th>4</th>\n",
       "      <td>How long can I take to repay my personal loan?</td>\n",
       "      <td>0.5783</td>\n",
       "    </tr>\n",
       "  </tbody>\n",
       "</table>\n",
       "</div>"
      ],
      "text/plain": [
       "                                            Question   Score\n",
       "0                  How can I repay my Personal Loan?  0.6165\n",
       "1  What are the charges I need to pay to foreclos...  0.6076\n",
       "2  What are the charges I need to pay to foreclos...  0.5802\n",
       "3             Can I repay the Personal loan earlier?  0.5799\n",
       "4     How long can I take to repay my personal loan?  0.5783"
      ]
     },
     "execution_count": 7,
     "metadata": {},
     "output_type": "execute_result"
    }
   ],
   "source": [
    "# Function to predict sentence closest to given sentence\n",
    "def predict_wmd(sent):\n",
    "    query = get_tokens(sent)\n",
    "    sims = instance[query]\n",
    "    scores = []\n",
    "    for i in range(5):\n",
    "        scores.append({\"Score\":'%.4f' % sims[i][1],\"Question\":questions[sims[i][0]]})\n",
    "    return pd.DataFrame(scores)\n",
    "predict_wmd('What is the procedure to pay my Personal Loan?')"
   ]
  },
  {
   "cell_type": "markdown",
   "metadata": {},
   "source": [
    "# WMD Similarity vs. TF-IDF\n",
    "- WMD \n",
    "    - Uses word2vec to embed and commpare words. \n",
    "    - Hence distance between two words (which is used to compute distance between documents) reflects their real-life relationship\n",
    "    - Computationally expensive. `O(p^3*logp)` , where p is the size of the corpus\n",
    "- TF-IDF \n",
    "    - Doesn't reflect real-life relationships\n",
    "    - Importance/weight assigned to each word is inversely proportional to its frequency in the corpus\n",
    "    - Faster to compute than wmd since vocabulary is much smaller\n",
    "    - Cannot matches questions with synonyms "
   ]
  },
  {
   "cell_type": "code",
   "execution_count": 8,
   "metadata": {},
   "outputs": [],
   "source": [
    "from sklearn.feature_extraction.text import TfidfVectorizer\n",
    "from nltk import FreqDist\n",
    "import numpy as np\n",
    "\n",
    "# Training tfidf vectoriser\n",
    "tf_vect =TfidfVectorizer(stop_words=stop,\n",
    "                         lowercase=True,\n",
    "                         use_idf=True)\n",
    "all_qs_vectors = tf_vect.fit_transform(questions)\n",
    "\n",
    "all_words = wordpunct_tokenize(' '.join(questions).lower())\n",
    "fdist = FreqDist(all_words)\n",
    "\n",
    "# Function to predict closest question using TF-IDF\n",
    "def predict(query,n=5,answers=False):\n",
    "    query_vector = tf_vect.transform([query])\n",
    "    arr = np.dot(all_qs_vectors, query_vector.T).toarray().flatten()\n",
    "    matches,results = arr.argsort(axis=0)[::-1],[]\n",
    "    for i in matches[:n]:\n",
    "        res = {\"Question\":questions[i],\"Score\":arr[i]}\n",
    "        results.append(res)\n",
    "    return pd.DataFrame(results)"
   ]
  },
  {
   "cell_type": "code",
   "execution_count": 9,
   "metadata": {},
   "outputs": [
    {
     "data": {
      "text/html": [
       "<div>\n",
       "<style scoped>\n",
       "    .dataframe tbody tr th:only-of-type {\n",
       "        vertical-align: middle;\n",
       "    }\n",
       "\n",
       "    .dataframe tbody tr th {\n",
       "        vertical-align: top;\n",
       "    }\n",
       "\n",
       "    .dataframe thead th {\n",
       "        text-align: right;\n",
       "    }\n",
       "</style>\n",
       "<table border=\"1\" class=\"dataframe\">\n",
       "  <thead>\n",
       "    <tr style=\"text-align: right;\">\n",
       "      <th></th>\n",
       "      <th>count</th>\n",
       "      <th>word</th>\n",
       "    </tr>\n",
       "  </thead>\n",
       "  <tbody>\n",
       "    <tr>\n",
       "      <th>1</th>\n",
       "      <td>7</td>\n",
       "      <td>procedure</td>\n",
       "    </tr>\n",
       "    <tr>\n",
       "      <th>2</th>\n",
       "      <td>20</td>\n",
       "      <td>pay</td>\n",
       "    </tr>\n",
       "    <tr>\n",
       "      <th>3</th>\n",
       "      <td>23</td>\n",
       "      <td>personal</td>\n",
       "    </tr>\n",
       "    <tr>\n",
       "      <th>4</th>\n",
       "      <td>103</td>\n",
       "      <td>loan</td>\n",
       "    </tr>\n",
       "    <tr>\n",
       "      <th>0</th>\n",
       "      <td>206</td>\n",
       "      <td>what</td>\n",
       "    </tr>\n",
       "  </tbody>\n",
       "</table>\n",
       "</div>"
      ],
      "text/plain": [
       "   count       word\n",
       "1      7  procedure\n",
       "2     20        pay\n",
       "3     23   personal\n",
       "4    103       loan\n",
       "0    206       what"
      ]
     },
     "execution_count": 9,
     "metadata": {},
     "output_type": "execute_result"
    }
   ],
   "source": [
    "query = 'What is the procedure to pay my Personal Loan?'\n",
    "word_dist = [{\"word\":w,\"count\":fdist[w]} for w in get_tokens(query)]\n",
    "pd.DataFrame(word_dist).sort_values('count')"
   ]
  },
  {
   "cell_type": "markdown",
   "metadata": {},
   "source": [
    "#### Consider the question : **What is the procedure to pay my Personal Loan?**\n",
    "- TFIDF suggests '*What is the cancellation procedure*' by matching the words **procedure** and **what**\n",
    "    - This is closely followed by '*How can I repay my Personal Loan?*' by matching the words **Personal** and **Loan**\n",
    "    - Thus, the word **procedure** is assigned greater importance simply due to lack of questions with **procedure**\n",
    "    - This worked to our benefit in the previous notebook where **Amortization** was assigned greater importance but backfires when common words aren't just as common/frequent in the corpus\n",
    "    - Hence, WMD performs a lot better than tfidf when we have a limited set of questions\n",
    "- WMD suggests '*How can I repay my Personal Loan?*' by roughly matching\n",
    "    - **What is the procedure** to **How**\n",
    "    - **pay** to **repay**"
   ]
  },
  {
   "cell_type": "code",
   "execution_count": 10,
   "metadata": {},
   "outputs": [
    {
     "data": {
      "text/html": [
       "<div>\n",
       "<style scoped>\n",
       "    .dataframe tbody tr th:only-of-type {\n",
       "        vertical-align: middle;\n",
       "    }\n",
       "\n",
       "    .dataframe tbody tr th {\n",
       "        vertical-align: top;\n",
       "    }\n",
       "\n",
       "    .dataframe thead th {\n",
       "        text-align: right;\n",
       "    }\n",
       "</style>\n",
       "<table border=\"1\" class=\"dataframe\">\n",
       "  <thead>\n",
       "    <tr style=\"text-align: right;\">\n",
       "      <th></th>\n",
       "      <th>Question</th>\n",
       "      <th>Score</th>\n",
       "    </tr>\n",
       "  </thead>\n",
       "  <tbody>\n",
       "    <tr>\n",
       "      <th>0</th>\n",
       "      <td>What is the cancellation procedure?</td>\n",
       "      <td>0.433564</td>\n",
       "    </tr>\n",
       "    <tr>\n",
       "      <th>1</th>\n",
       "      <td>How can I repay my Personal Loan?</td>\n",
       "      <td>0.400332</td>\n",
       "    </tr>\n",
       "    <tr>\n",
       "      <th>2</th>\n",
       "      <td>What are the charges I need to pay to foreclos...</td>\n",
       "      <td>0.352948</td>\n",
       "    </tr>\n",
       "    <tr>\n",
       "      <th>3</th>\n",
       "      <td>Can I repay the Personal loan earlier?</td>\n",
       "      <td>0.334612</td>\n",
       "    </tr>\n",
       "    <tr>\n",
       "      <th>4</th>\n",
       "      <td>What is a Personal Assurance Message or Person...</td>\n",
       "      <td>0.331042</td>\n",
       "    </tr>\n",
       "  </tbody>\n",
       "</table>\n",
       "</div>"
      ],
      "text/plain": [
       "                                            Question     Score\n",
       "0                What is the cancellation procedure?  0.433564\n",
       "1                  How can I repay my Personal Loan?  0.400332\n",
       "2  What are the charges I need to pay to foreclos...  0.352948\n",
       "3             Can I repay the Personal loan earlier?  0.334612\n",
       "4  What is a Personal Assurance Message or Person...  0.331042"
      ]
     },
     "execution_count": 10,
     "metadata": {},
     "output_type": "execute_result"
    }
   ],
   "source": [
    "# Predict closest question using TF-IDF similarity\n",
    "predict('What is the procedure to pay my Personal Loan?')"
   ]
  },
  {
   "cell_type": "code",
   "execution_count": 11,
   "metadata": {},
   "outputs": [
    {
     "data": {
      "text/html": [
       "<div>\n",
       "<style scoped>\n",
       "    .dataframe tbody tr th:only-of-type {\n",
       "        vertical-align: middle;\n",
       "    }\n",
       "\n",
       "    .dataframe tbody tr th {\n",
       "        vertical-align: top;\n",
       "    }\n",
       "\n",
       "    .dataframe thead th {\n",
       "        text-align: right;\n",
       "    }\n",
       "</style>\n",
       "<table border=\"1\" class=\"dataframe\">\n",
       "  <thead>\n",
       "    <tr style=\"text-align: right;\">\n",
       "      <th></th>\n",
       "      <th>Question</th>\n",
       "      <th>Score</th>\n",
       "    </tr>\n",
       "  </thead>\n",
       "  <tbody>\n",
       "    <tr>\n",
       "      <th>0</th>\n",
       "      <td>How can I repay my Personal Loan?</td>\n",
       "      <td>0.6165</td>\n",
       "    </tr>\n",
       "    <tr>\n",
       "      <th>1</th>\n",
       "      <td>What are the charges I need to pay to foreclos...</td>\n",
       "      <td>0.6076</td>\n",
       "    </tr>\n",
       "    <tr>\n",
       "      <th>2</th>\n",
       "      <td>What are the charges I need to pay to foreclos...</td>\n",
       "      <td>0.5802</td>\n",
       "    </tr>\n",
       "    <tr>\n",
       "      <th>3</th>\n",
       "      <td>Can I repay the Personal loan earlier?</td>\n",
       "      <td>0.5799</td>\n",
       "    </tr>\n",
       "    <tr>\n",
       "      <th>4</th>\n",
       "      <td>How long can I take to repay my personal loan?</td>\n",
       "      <td>0.5783</td>\n",
       "    </tr>\n",
       "  </tbody>\n",
       "</table>\n",
       "</div>"
      ],
      "text/plain": [
       "                                            Question   Score\n",
       "0                  How can I repay my Personal Loan?  0.6165\n",
       "1  What are the charges I need to pay to foreclos...  0.6076\n",
       "2  What are the charges I need to pay to foreclos...  0.5802\n",
       "3             Can I repay the Personal loan earlier?  0.5799\n",
       "4     How long can I take to repay my personal loan?  0.5783"
      ]
     },
     "execution_count": 11,
     "metadata": {},
     "output_type": "execute_result"
    }
   ],
   "source": [
    "# Predict closest question using WMD similarity\n",
    "predict_wmd('What is the procedure to pay my Personal Loan?')"
   ]
  }
 ],
 "metadata": {
  "kernelspec": {
   "display_name": "Python 2",
   "language": "python",
   "name": "python2"
  },
  "language_info": {
   "codemirror_mode": {
    "name": "ipython",
    "version": 2
   },
   "file_extension": ".py",
   "mimetype": "text/x-python",
   "name": "python",
   "nbconvert_exporter": "python",
   "pygments_lexer": "ipython2",
   "version": "2.7.15"
  }
 },
 "nbformat": 4,
 "nbformat_minor": 2
}
