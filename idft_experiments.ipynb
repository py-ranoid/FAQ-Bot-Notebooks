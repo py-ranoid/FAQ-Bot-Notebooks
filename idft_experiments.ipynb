{
 "cells": [
  {
   "cell_type": "code",
   "execution_count": 9,
   "metadata": {
    "collapsed": true
   },
   "outputs": [],
   "source": [
    "import pandas as pd\n",
    "import numpy as np\n",
    "df = pd.read_pickle('hdfc.pkl')\n",
    "df = df.drop_duplicates('Question')\n",
    "df = df.reset_index()\n",
    "df['Question'] = df['Question'].str.strip()\n",
    "\n",
    "import nltk\n",
    "from nltk.corpus import stopwords\n",
    "stop = set(stopwords.words('english'))\n",
    "pd.set_option('display.width',1000)"
   ]
  },
  {
   "cell_type": "code",
   "execution_count": 10,
   "metadata": {},
   "outputs": [
    {
     "name": "stdout",
     "output_type": "stream",
     "text": [
      "                                            Question                                             Answer\n",
      "0  What will be done with the post dated cheques ...  Post Dated Cheques(PDCs)/Security Cheques subm...\n",
      "1                  How can I repay my Personal Loan?  You pay the loan in equal monthly instalments ...\n",
      "2  Are there any additional charges for loan repa...  The additional charges (if any) are applicable...\n",
      "3                                 What is Guarantor?  A Guarantor is a person who guarantees to pay ...\n",
      "4                                 What is De-pledge?  Removal of a pledge from the security to regai...\n"
     ]
    }
   ],
   "source": [
    "limit = 100\n",
    "reduced = df[['Question','Answer']][:limit]\n",
    "\n",
    "qlabels = reduced['Question'].to_dict()\n",
    "alabels = reduced['Answer'].to_dict()\n",
    "\n",
    "print reduced.head()"
   ]
  },
  {
   "cell_type": "code",
   "execution_count": 11,
   "metadata": {},
   "outputs": [
    {
     "name": "stdout",
     "output_type": "stream",
     "text": [
      "Shape of all_qs_vectors : (100, 178)\n",
      "100 : Number of questions\n",
      "178 : Vocabulary size\n"
     ]
    }
   ],
   "source": [
    "from sklearn.feature_extraction.text import TfidfVectorizer\n",
    "tf_vect =TfidfVectorizer(stop_words=stop,\n",
    "                         lowercase=True,\n",
    "                         use_idf=True)\n",
    "all_qs_vectors = tf_vect.fit_transform(reduced['Question'])\n",
    "print \"Shape of all_qs_vectors :\",all_qs_vectors.shape\n",
    "print all_qs_vectors.shape[0],\": Number of questions\"\n",
    "print all_qs_vectors.shape[1],\": Vocabulary size\""
   ]
  },
  {
   "cell_type": "code",
   "execution_count": 12,
   "metadata": {
    "collapsed": true
   },
   "outputs": [],
   "source": [
    "# Transforming context with tfidf\n",
    "context = 'How can I repay my Personal Loan?'\n",
    "vector_context = tf_vect.transform([context])\n",
    "context_matrix = vector_context.todense()\n",
    "# vector_doc = self.vectorizer.transform(])"
   ]
  },
  {
   "cell_type": "code",
   "execution_count": 13,
   "metadata": {},
   "outputs": [
    {
     "name": "stdout",
     "output_type": "stream",
     "text": [
      "WORD       INDEX  TFIDF_VALUE\n",
      "How        NA     0\n",
      "can        NA     0\n",
      "I          NA     0\n",
      "repay      141    0.6328378766551715\n",
      "my         NA     0\n",
      "Personal   118    0.714811086464789\n",
      "Loan       87     0.2975925612941322\n",
      "?          NA     0\n"
     ]
    }
   ],
   "source": [
    "# Displaying TF_IDF results\n",
    "from nltk import word_tokenize\n",
    "print \"WORD\".ljust(10),\"INDEX\".ljust(6),\"TFIDF_VALUE\"\n",
    "for w in word_tokenize(context.strip()):\n",
    "    ind = tf_vect.vocabulary_.get(w.lower(),\"NA\")\n",
    "    val = context_matrix[0,ind] if not ind == \"NA\" else 0\n",
    "    print w.ljust(10),str(ind).ljust(6),val"
   ]
  },
  {
   "cell_type": "code",
   "execution_count": 14,
   "metadata": {},
   "outputs": [
    {
     "name": "stdout",
     "output_type": "stream",
     "text": [
      "How can I repay my Personal Loan?\n",
      "Can I repay the Personal loan earlier?\n",
      "How long can I take to repay my personal loan?\n",
      "How do I repay my Professionals loan?\n",
      "How do I repay my Business Loan?\n"
     ]
    }
   ],
   "source": [
    "# Comparing context with all questions using dot product\n",
    "result = np.dot(all_qs_vectors, vector_context.T)\n",
    "# Converting numpy matrix to 1D array with 146 dot products (146 questions vs context)\n",
    "arr = result.toarray().flatten()\n",
    "n=5\n",
    "matches = arr.argsort(axis=0)[::-1]\n",
    "top_n_matches = matches[:n]\n",
    "# print \n",
    "# print qlabels\n",
    "for i in top_n_matches:\n",
    "    print qlabels[i]"
   ]
  }
 ],
 "metadata": {
  "kernelspec": {
   "display_name": "Python 2",
   "language": "python",
   "name": "python2"
  },
  "language_info": {
   "codemirror_mode": {
    "name": "ipython",
    "version": 2
   },
   "file_extension": ".py",
   "mimetype": "text/x-python",
   "name": "python",
   "nbconvert_exporter": "python",
   "pygments_lexer": "ipython2",
   "version": "2.7.14"
  }
 },
 "nbformat": 4,
 "nbformat_minor": 2
}
