{
 "cells": [
  {
   "cell_type": "markdown",
   "metadata": {},
   "source": [
    "# Fact Retreival Bot using IDFT\n",
    "### Steps\n",
    "- Loading and preprocessing Questions and Answers from dataset\n",
    "- Setting Stopwords\n",
    "- Intitialising and training TF_IDF vectors\n",
    "- Testins"
   ]
  },
  {
   "cell_type": "markdown",
   "metadata": {},
   "source": [
    "## Imports"
   ]
  },
  {
   "cell_type": "code",
   "execution_count": 30,
   "metadata": {
    "collapsed": true
   },
   "outputs": [],
   "source": [
    "import pandas as pd                   # To load and process dataset\n",
    "import numpy as np                    # For matrix operations\n",
    "from nltk.corpus import stopwords     # Using NLTK to load stopwords\n",
    "from nltk import word_tokenize        # Using NLTK to token sentences\n",
    "\n",
    "from sklearn.feature_extraction.text import TfidfVectorizer\n",
    "\n",
    "pd.set_option('display.width',1000)"
   ]
  },
  {
   "cell_type": "markdown",
   "metadata": {},
   "source": [
    "## Loading and preprocessing Questions and Answers from dataset\n",
    "- `hdfc.pkl` : Collection of 1341 QnA about HDFC. (Scraped from HDFC's FAQ site)\n",
    "- Dropping stopwords\n",
    "- Stripping Questions of extra spaces"
   ]
  },
  {
   "cell_type": "code",
   "execution_count": 28,
   "metadata": {},
   "outputs": [],
   "source": [
    "df = pd.read_pickle('hdfc.pkl')\n",
    "df = df.drop_duplicates('Question')\n",
    "df = df.reset_index()\n",
    "df['Question'] = df['Question'].str.strip()"
   ]
  },
  {
   "cell_type": "code",
   "execution_count": 29,
   "metadata": {},
   "outputs": [
    {
     "name": "stdout",
     "output_type": "stream",
     "text": [
      "                                            Question                                             Answer\n",
      "0  What will be done with the post dated cheques ...  Post Dated Cheques(PDCs)/Security Cheques subm...\n",
      "1                  How can I repay my Personal Loan?  You pay the loan in equal monthly instalments ...\n",
      "2  Are there any additional charges for loan repa...  The additional charges (if any) are applicable...\n",
      "3                                 What is Guarantor?  A Guarantor is a person who guarantees to pay ...\n",
      "4                                 What is De-pledge?  Removal of a pledge from the security to regai...\n"
     ]
    }
   ],
   "source": [
    "limit = 100\n",
    "reduced = df[['Question','Answer']][:limit]\n",
    "\n",
    "qlabels = reduced['Question'].to_dict()\n",
    "alabels = reduced['Answer'].to_dict()\n",
    "\n",
    "print reduced.head()"
   ]
  },
  {
   "cell_type": "markdown",
   "metadata": {},
   "source": [
    "## Setting stopwords\n",
    "- Import set of common stopwords from nltk\n",
    "- Adding domain-related stopword\n",
    "- Removing question words (To distinguish between intents of questions)"
   ]
  },
  {
   "cell_type": "code",
   "execution_count": 27,
   "metadata": {},
   "outputs": [],
   "source": [
    "# Loading stopwords\n",
    "plus = {'hdfc'}\n",
    "minus = {'what','how','where','when','why'}\n",
    "stop = set(stopwords.words('english'))\n",
    "\n",
    "stop.update(plus)\n",
    "stop.difference_update(minus)"
   ]
  },
  {
   "cell_type": "markdown",
   "metadata": {},
   "source": [
    "## Intitialising and training TF-IDF vectors\n",
    "- Setting stopwords to `stop`\n",
    "- `tf_vect` : `TfidfVectorizer` object. Can be used to convert strings to tf-idf vectors\n",
    "- `all_qs_vectors` : Matrix of TF-IDF vectors corresponding to questions in training set"
   ]
  },
  {
   "cell_type": "code",
   "execution_count": 11,
   "metadata": {},
   "outputs": [
    {
     "name": "stdout",
     "output_type": "stream",
     "text": [
      "Shape of all_qs_vectors : (100, 178)\n",
      "100 : Number of questions\n",
      "178 : Vocabulary size\n"
     ]
    }
   ],
   "source": [
    "tf_vect =TfidfVectorizer(stop_words=stop,\n",
    "                         lowercase=True,\n",
    "                         use_idf=True)\n",
    "all_qs_vectors = tf_vect.fit_transform(reduced['Question'])\n",
    "print \"Shape of all_qs_vectors :\",all_qs_vectors.shape\n",
    "print all_qs_vectors.shape[0],\": Number of questions\"\n",
    "print all_qs_vectors.shape[1],\": Vocabulary size\""
   ]
  },
  {
   "cell_type": "code",
   "execution_count": 12,
   "metadata": {
    "collapsed": true
   },
   "outputs": [],
   "source": [
    "# Transforming context with tfidf\n",
    "context = 'How can I repay my Personal Loan?'\n",
    "context_vector = tf_vect.transform([context])\n",
    "context_matrix = context_vector.todense()"
   ]
  },
  {
   "cell_type": "code",
   "execution_count": 13,
   "metadata": {},
   "outputs": [
    {
     "name": "stdout",
     "output_type": "stream",
     "text": [
      "WORD       INDEX  TFIDF_VALUE\n",
      "How        NA     0\n",
      "can        NA     0\n",
      "I          NA     0\n",
      "repay      141    0.6328378766551715\n",
      "my         NA     0\n",
      "Personal   118    0.714811086464789\n",
      "Loan       87     0.2975925612941322\n",
      "?          NA     0\n"
     ]
    }
   ],
   "source": [
    "# Displaying TF_IDF results\n",
    "print \"WORD\".ljust(10),\"INDEX\".ljust(6),\"TFIDF_VALUE\"\n",
    "for w in word_tokenize(context.strip()):\n",
    "    ind = tf_vect.vocabulary_.get(w.lower(),\"NA\")\n",
    "    val = context_matrix[0,ind] if not ind == \"NA\" else 0\n",
    "    print w.ljust(10),str(ind).ljust(6),val"
   ]
  },
  {
   "cell_type": "markdown",
   "metadata": {},
   "source": [
    "## Predicting closest question\n",
    "- `predict` has the following arguments\n",
    "    - `n`       : int  | Number of results (from top)\n",
    "    - `answers` : bool | Return answers or not\n",
    "    - `ret_best`: bool | Returns index of closest match\n",
    "- Steps for prediction\n",
    "    - Convert query to tfidf vector\n",
    "    - Get dot product of query vectors with each question to measures similarity\n",
    "    - Sort array indices by descending order of array values\n",
    "    - Return top n results"
   ]
  },
  {
   "cell_type": "code",
   "execution_count": 48,
   "metadata": {},
   "outputs": [],
   "source": [
    "def predict(query,n=5,answers=False,ret_indices=False):\n",
    "    # Comparing context with all questions using dot product\n",
    "    query_vector = tf_vect.transform([query])\n",
    "    sim = np.dot(all_qs_vectors, query_vector.T)\n",
    "    # Converting numpy matrix to 1D array with 146 dot products (146 questions vs context)\n",
    "    arr = sim.toarray().flatten()\n",
    "    matches = arr.argsort(axis=0)[::-1]\n",
    "    top_n_matches = matches[:n]\n",
    "    results = []\n",
    "    if ret_indices:\n",
    "        return top_n_matches\n",
    "    for i in top_n_matches:\n",
    "        res = {qlabels[i]:alabels[i]} if answers else qlabels[i]\n",
    "        results.append(res)\n",
    "    return results"
   ]
  },
  {
   "cell_type": "code",
   "execution_count": 43,
   "metadata": {},
   "outputs": [
    {
     "data": {
      "text/plain": [
       "[u'How can I repay my Personal Loan?',\n",
       " u'Can I repay the Personal loan earlier?',\n",
       " u'What are the charges I need to pay to foreclose my loan?',\n",
       " u'How long can I take to repay my personal loan?',\n",
       " u'What are the charges I need to pay to foreclose my Loan Against Property?']"
      ]
     },
     "execution_count": 43,
     "metadata": {},
     "output_type": "execute_result"
    }
   ],
   "source": [
    "predict('How do I pay my personal loan ?')"
   ]
  },
  {
   "cell_type": "code",
   "execution_count": 51,
   "metadata": {},
   "outputs": [
    {
     "name": "stdout",
     "output_type": "stream",
     "text": [
      "Recall :  95.0 %\n",
      "Query : What will be done with the post dated cheques if I request to change the mode of repayment/ account for my loan?\n",
      "[u'What will be done with the post dated cheques if I request to change the mode of repayment/account for my loan?', u'What will be done with the post-dated cheques if I request to change the mode of repayment/account for my loan?', u'What will be done with the post-dated cheques if I request to change the mode of repayment/ account for my loan?']\n",
      "\n",
      "Query : What are the different loan repayment modes?\n",
      "[u'What are the different modes of loan repayment?', u'What are the different loan repayment modes?', u'How can I change the mode of repayment/ account for my loan?']\n",
      "\n",
      "Query : Do you want to repay the loan earlier than the due date?\n",
      "[u'What if I want to repay the loan earlier than the due date?', u'Do you want to repay the loan earlier than the due date?', u'Can I repay my loan earlier than the due date?']\n",
      "\n",
      "Query : What will be done with the post-dated cheques if I request to change the mode of repayment/account for my loan?\n",
      "[u'What will be done with the post dated cheques if I request to change the mode of repayment/account for my loan?', u'What will be done with the post-dated cheques if I request to change the mode of repayment/account for my loan?', u'What will be done with the post-dated cheques if I request to change the mode of repayment/ account for my loan?']\n",
      "\n",
      "Query : What will be done with the post-dated cheques if I request to change the mode of repayment/ account for my loan?\n",
      "[u'What will be done with the post dated cheques if I request to change the mode of repayment/account for my loan?', u'What will be done with the post-dated cheques if I request to change the mode of repayment/account for my loan?', u'What will be done with the post-dated cheques if I request to change the mode of repayment/ account for my loan?']\n",
      "\n"
     ]
    }
   ],
   "source": [
    "num_correct = 0\n",
    "failed = []\n",
    "for i in qlabels:\n",
    "    if predict(qlabels[i],n=1,ret_indices=True)[0] == i:\n",
    "        num_correct +=1\n",
    "    else :\n",
    "        failed.append(i)\n",
    "print \"Recall : \",float(num_correct)/len(qlabels) *100,\"%\"\n",
    "\n",
    "for i in failed : \n",
    "    query = qlabels[i]\n",
    "    print \"\\nQuery :\",query\n",
    "    print predict(query,n=3)"
   ]
  }
 ],
 "metadata": {
  "kernelspec": {
   "display_name": "Python 2",
   "language": "python",
   "name": "python2"
  },
  "language_info": {
   "codemirror_mode": {
    "name": "ipython",
    "version": 2
   },
   "file_extension": ".py",
   "mimetype": "text/x-python",
   "name": "python",
   "nbconvert_exporter": "python",
   "pygments_lexer": "ipython2",
   "version": "2.7.14"
  }
 },
 "nbformat": 4,
 "nbformat_minor": 2
}
